{
 "cells": [
  {
   "attachments": {},
   "cell_type": "markdown",
   "metadata": {},
   "source": [
    "# Build a Wavenet"
   ]
  },
  {
   "attachments": {},
   "cell_type": "markdown",
   "metadata": {},
   "source": [
    "## Preparation"
   ]
  },
  {
   "attachments": {},
   "cell_type": "markdown",
   "metadata": {},
   "source": [
    "### Prepare the datasets"
   ]
  },
  {
   "cell_type": "code",
   "execution_count": 2,
   "metadata": {},
   "outputs": [],
   "source": [
    "# Import the libraries\n",
    "import torch\n",
    "import torch.nn.functional as F\n",
    "import matplotlib.pyplot as plt\n",
    "%matplotlib inline\n",
    "import random\n",
    "\n",
    "# seed for reproductibility\n",
    "torch.manual_seed(42)\n",
    "\n",
    "# load the dataset\n",
    "with open(file=\"datasets/names.txt\", mode=\"r\") as namestxt:\n",
    "    words = namestxt.read().splitlines() \n",
    "    \n",
    "# build a dictionary for the characters\n",
    "chars = [\".\"] + sorted(list(set(\"\".join(words))))\n",
    "stoi = {s:i for i, s in enumerate(chars)}\n",
    "itos = {i:s for s, i in stoi.items()}\n",
    "vocab_size = len(itos)\n",
    "\n",
    "# shuffle the words\n",
    "random.seed(42)\n",
    "random.shuffle(words)\n",
    "\n",
    "# build the dataset\n",
    "block_size = 3 # lengths of sequence of token \n",
    "def build_dataset(words, train=0.8, dev=0.1, test=0.1): # helper function to create datasets\n",
    "\tif train + test + dev != 1:\n",
    "\t\treturn ValueError\n",
    "\t\n",
    "\tX, Y = [], []\n",
    "\tfor word in words:\n",
    "\t\tcontext = [0]*block_size\n",
    "\t\tfor char in word + \".\":\n",
    "\t\t\tix = stoi[char]\n",
    "\t\t\tX.append(context)\n",
    "\t\t\tY.append(ix)\n",
    "\t\t\tcontext = context[1:]+[ix]\n",
    "\tX = torch.tensor(X)\n",
    "\tY = torch.tensor(Y)\n",
    "\n",
    "\tn1 = int(train*(len(words)))\n",
    "\tn2 = int((train + dev)*(len(words)))\n",
    "\n",
    "\tXtr, Ytr = X[:n1], Y[:n1]\n",
    "\tXdev, Ydev = X[n1:n2], Y[n1:n2]\n",
    "\tXtest, Ytest = X[n2:], Y[n2:]\n",
    "\n",
    "\treturn Xtr, Ytr, Xdev, Ydev, Xtest, Ytest\n",
    "\n",
    "Xtr, Ytr, Xdev, Ydev, Xtest, Ytest = build_dataset(words=words)"
   ]
  },
  {
   "attachments": {},
   "cell_type": "markdown",
   "metadata": {},
   "source": [
    "### Visualize the datasets"
   ]
  },
  {
   "cell_type": "code",
   "execution_count": 3,
   "metadata": {},
   "outputs": [
    {
     "name": "stdout",
     "output_type": "stream",
     "text": [
      "... ---> y\n",
      "..y ---> u\n",
      ".yu ---> h\n",
      "yuh ---> e\n",
      "uhe ---> n\n",
      "hen ---> g\n",
      "eng ---> .\n"
     ]
    }
   ],
   "source": [
    "for x, y in zip(Xtr[:7], Ytr[:7]):\n",
    "\tprint(\"\".join(itos[ix.item()] for ix in x), \"--->\", itos[y.item()])"
   ]
  },
  {
   "attachments": {},
   "cell_type": "markdown",
   "metadata": {},
   "source": [
    "### Create some Layers Modules"
   ]
  },
  {
   "cell_type": "code",
   "execution_count": 4,
   "metadata": {},
   "outputs": [],
   "source": [
    "class Linear: # linear layer\n",
    "\n",
    "\tdef __init__(self, fan_in, fan_out, bias = True):\n",
    "\t\tself.weight = torch.randn((fan_in, fan_out))/(fan_in**0.5)\n",
    "\t\tself.bias = torch.zeros(fan_out) if bias else None\n",
    "\t\n",
    "\tdef __call__(self, x):\n",
    "\t\tself.out = x @ self.weight\n",
    "\t\tif self.bias is not None:\n",
    "\t\t\tself.out += self.bias\n",
    "\t\treturn self.out\n",
    "\n",
    "\tdef parameters(self):\n",
    "\t\treturn [self.weight] + ([] if self.bias == None else [self.bias])\n",
    "\t\n",
    "class Batchnorm1d:\n",
    "\n",
    "\tdef __init__(self, dim, eps=1e-5, momentum=0.1):\n",
    "\t\tself.eps = eps\n",
    "\t\tself.momentum = momentum\n",
    "\t\tself.training = True\n",
    "\t\t# parameters trained with backprop\n",
    "\t\tself.gamma = torch.ones(dim)\n",
    "\t\tself.beta = torch.zeros(dim)\n",
    "\t\t# buffer, trained with running mean and var\n",
    "\t\tself.running_mean = torch.zeros(dim)\n",
    "\t\tself.running_var = torch.ones(dim)\n",
    "\n",
    "\tdef __call__(self, x):\n",
    "\t\t# calculate batch mean and var during training, running mean and var for inference\n",
    "\t\tif self.training:\n",
    "\t\t\txmean = x.mean(0, keepdim = True)\n",
    "\t\t\txvar = x.var(0, keepdim = True)\n",
    "\t\t# for inference\n",
    "\t\telse:\n",
    "\t\t\txmean = self.running_mean\n",
    "\t\t\txvar = self.running_var\n",
    "\t\txhat = (x-xmean)/torch.sqrt(xvar + self.eps)\n",
    "\t\tself.out = self.gamma * xhat + self.beta\n",
    "\t\t# if training, update the running mean and variance\n",
    "\t\tif self.training:\n",
    "\t\t\twith torch.no_grad():\n",
    "\t\t\t\tself.running_mean = self.running_mean * (1-self.momentum) + xmean * self.momentum\n",
    "\t\t\t\tself.running_var = self.running_var * (1-self.momentum) + xvar * self.momentum\n",
    "\t\t\n",
    "\t\treturn self.out\n",
    "\n",
    "\tdef parameters(self):\n",
    "\t\treturn [self.gamma,self.beta]\n",
    "\n",
    "class Tanh:\n",
    "\tdef __call__(self, x):\n",
    "\t\tself.out = torch.tanh(x)\n",
    "\t\treturn self.out\n",
    "\tdef parameters(self):\n",
    "\t\treturn []"
   ]
  },
  {
   "attachments": {},
   "cell_type": "markdown",
   "metadata": {},
   "source": [
    "## Neural network"
   ]
  },
  {
   "attachments": {},
   "cell_type": "markdown",
   "metadata": {},
   "source": [
    "### Build the NN"
   ]
  },
  {
   "cell_type": "code",
   "execution_count": 5,
   "metadata": {},
   "outputs": [
    {
     "name": "stdout",
     "output_type": "stream",
     "text": [
      "Number of parameters in the NN = 12097\n"
     ]
    }
   ],
   "source": [
    "n_emb = 10 # dimension of embedding layer\n",
    "n_hidden = 200 # dimension of the hidden layer\n",
    "\n",
    "# layers of the NN\n",
    "C = torch.randn(vocab_size, n_emb) # word embedding\n",
    "layers = [\n",
    "\tLinear(fan_in = (n_emb*block_size), fan_out = n_hidden, bias=False),\n",
    "\tBatchnorm1d(dim = n_hidden),\n",
    "\tTanh(),\n",
    "\tLinear(fan_in= n_hidden, fan_out= vocab_size)\n",
    "]\n",
    "\n",
    "# smooth parameter init last Layer (less confident)\n",
    "with torch.no_grad():\n",
    "\tlayers[-1].weight *= 0.1 \n",
    "\n",
    "# create list of all parameters\n",
    "parameters = [C] + [p for layer in layers for p in layer.parameters()]\n",
    "print(f\"Number of parameters in the NN = {sum(p.nelement() for p in parameters)}\")\n",
    "\n",
    "# requires grad\n",
    "for p in parameters:\n",
    "\tp.requires_grad = True"
   ]
  },
  {
   "attachments": {},
   "cell_type": "markdown",
   "metadata": {},
   "source": [
    "### Training the NN"
   ]
  },
  {
   "cell_type": "code",
   "execution_count": 37,
   "metadata": {},
   "outputs": [
    {
     "name": "stdout",
     "output_type": "stream",
     "text": [
      "torch.Size([32, 3]) torch.Size([32])\n",
      "Loss of step 0 from 1 = 1.758811116218567\n"
     ]
    },
    {
     "data": {
      "text/plain": [
       "[<matplotlib.lines.Line2D at 0x2851993f0>]"
      ]
     },
     "execution_count": 37,
     "metadata": {},
     "output_type": "execute_result"
    },
    {
     "data": {
      "image/png": "[encoded data removed]",
      "text/plain": [
       "<Figure size 640x480 with 1 Axes>"
      ]
     },
     "metadata": {},
     "output_type": "display_data"
    }
   ],
   "source": [
    "max_steps = 1 # TODO desactivate\n",
    "# max_steps = 200000 # TODO activate\n",
    "batch_size = 32\n",
    "lossi = []\n",
    "train_size = Xtr.shape[0]\n",
    "\n",
    "for i in range(max_steps):\n",
    "\t# build minibatch\n",
    "\tix = torch.randint(low=0,high=train_size,size=(batch_size,))\n",
    "\tXb, Yb = Xtr[ix], Ytr[ix] \n",
    "\n",
    "\t# forward pass\n",
    "\temb = C[Xb] # embedding the individual tokens \n",
    "\tx = emb.view(batch_size, (block_size*n_emb)) # concatenate the vectors (one row per set of 3 token)\n",
    "\tfor layer in layers:\n",
    "\t\tx = layer(x) # go through the layers of the NN \n",
    "\tloss = F.cross_entropy(input=x, target=Yb) # loss function\n",
    "\tprint(Xb.shape, Yb.shape)\n",
    "\t\n",
    "\t# backward pass\n",
    "\tfor p in parameters:\n",
    "\t\tp.grad = None\n",
    "\tloss.backward()\n",
    "\t\n",
    "\t# update weights (simple Stochastic Gradient Descent)\n",
    "\tfor p in parameters:\n",
    "\t\tlr = 0.1 if i<(max_steps*0.75) else 0.01 #learning rate decay\n",
    "\t\tp.data -= p.grad * lr\n",
    "\t\n",
    "\t# track stats\n",
    "\tlossi.append(loss.log10().item())\n",
    "\tif i%10000 == 0:\n",
    "\t\tprint(f\"Loss of step {i} from {max_steps} = {loss}\")\n",
    "# Plot the result of the training\n",
    "plt.plot(lossi)"
   ]
  },
  {
   "attachments": {},
   "cell_type": "markdown",
   "metadata": {},
   "source": [
    "### Evaluate the performance of the NN"
   ]
  },
  {
   "cell_type": "code",
   "execution_count": 7,
   "metadata": {},
   "outputs": [
    {
     "name": "stdout",
     "output_type": "stream",
     "text": [
      "train loss = 1.8166677951812744\n",
      "val loss = 2.340102195739746\n"
     ]
    }
   ],
   "source": [
    "# desactivate the training mode for inference\n",
    "for layer in layers:\n",
    "    layer.training = False\n",
    "    \n",
    "@torch.no_grad()\n",
    "def split_loss(split):\n",
    "    x, y = {\n",
    "        \"train\": (Xtr, Ytr),\n",
    "        \"val\": (Xdev, Ydev),\n",
    "        \"test\": (Xtest, Ytest)\n",
    "\t}[split]\n",
    "    emb = C[x]\n",
    "    x = emb.view(emb.shape[0], -1)\n",
    "    for layer in layers:\n",
    "        x = layer(x)\n",
    "    loss = F.cross_entropy(x, y)\n",
    "    print(f\"{split} loss = {loss}\")\n",
    "\n",
    "split_loss(\"train\")\n",
    "split_loss(\"val\")"
   ]
  },
  {
   "attachments": {},
   "cell_type": "markdown",
   "metadata": {},
   "source": [
    "### Sample from the model"
   ]
  },
  {
   "cell_type": "code",
   "execution_count": 33,
   "metadata": {},
   "outputs": [
    {
     "name": "stdout",
     "output_type": "stream",
     "text": [
      "mo.\n",
      "yntyeaala.\n",
      "aaja.\n",
      "fhldl.\n",
      "bii.\n",
      "h.\n",
      "pfhl.\n",
      "cctll.\n",
      "n.\n",
      "jhl.\n",
      "jvajhlaaa.\n",
      "ribhs.\n",
      "aa.\n",
      "veaaytaaa.\n",
      "qi.\n",
      "jakaaval.\n",
      "o.\n",
      "ve.\n",
      "kdcntela.\n",
      "l.\n"
     ]
    }
   ],
   "source": [
    "# function to sample from the model\n",
    "def sampleNames(sample_size = 20):\n",
    "\tfor _ in range(sample_size):\n",
    "\t\tcontext = [0] * block_size\n",
    "\t\tout = []\n",
    "\t\t# a while loop for each sample\n",
    "\t\twhile True:\n",
    "\t\t\t# forward pass\n",
    "\t\t\temb = torch.Tensor(size=(3,10))\n",
    "\t\t\tfor i in range(len(context)):\n",
    "\t\t\t\temb[i] = C[context[i]]\n",
    "\t\t\tx = emb.view(emb.shape[0]*emb.shape[1])\n",
    "\t\t\tfor layer in layers:\n",
    "\t\t\t\tx = layer(x)\n",
    "\t\t\tprobs = F.softmax(input=x, dim = 1) # probability distribution for each token\n",
    "\t\t\tix = torch.multinomial(input=probs, num_samples=1, replacement=False).item()\n",
    "\t\t\tcontext = [ix] + context[1:]\n",
    "\t\t\tout.append(ix)\n",
    "\t\t\tif ix == 0:\n",
    "\t\t\t\tbreak\n",
    "\t\tprint(\"\".join(itos[i] for i in out))\n",
    "\t\n",
    "sampleNames()"
   ]
  },
  {
   "cell_type": "code",
   "execution_count": 34,
   "metadata": {},
   "outputs": [
    {
     "data": {
      "text/plain": [
       "25626"
      ]
     },
     "execution_count": 34,
     "metadata": {},
     "output_type": "execute_result"
    }
   ],
   "source": [
    "train_size"
   ]
  },
  {
   "cell_type": "code",
   "execution_count": null,
   "metadata": {},
   "outputs": [],
   "source": []
  }
 ],
 "metadata": {
  "kernelspec": {
   "display_name": ".venv",
   "language": "python",
   "name": "python3"
  },
  "language_info": {
   "codemirror_mode": {
    "name": "ipython",
    "version": 3
   },
   "file_extension": ".py",
   "mimetype": "text/x-python",
   "name": "python",
   "nbconvert_exporter": "python",
   "pygments_lexer": "ipython3",
   "version": "3.10.7"
  },
  "orig_nbformat": 4
 },
 "nbformat": 4,
 "nbformat_minor": 2
}
